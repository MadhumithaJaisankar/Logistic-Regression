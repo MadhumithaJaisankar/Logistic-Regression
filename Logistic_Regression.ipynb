{
 "cells": [
  {
   "cell_type": "code",
   "execution_count": 3,
   "id": "e9f74cfd",
   "metadata": {},
   "outputs": [],
   "source": [
    "import numpy as np\n",
    "import matplotlib.pyplot as plt\n",
    "import pandas as pd\n",
    "import csv"
   ]
  },
  {
   "cell_type": "code",
   "execution_count": 5,
   "id": "0b4eebbe",
   "metadata": {},
   "outputs": [],
   "source": [
    "w1=2.4\n",
    "w2=-4.9\n",
    "theta= np.array([w1,w2])\n",
    "learning_rate=0.01\n",
    "iterations=1000"
   ]
  },
  {
   "cell_type": "code",
   "execution_count": 6,
   "id": "65be3797",
   "metadata": {},
   "outputs": [
    {
     "data": {
      "text/html": [
       "<div>\n",
       "<style scoped>\n",
       "    .dataframe tbody tr th:only-of-type {\n",
       "        vertical-align: middle;\n",
       "    }\n",
       "\n",
       "    .dataframe tbody tr th {\n",
       "        vertical-align: top;\n",
       "    }\n",
       "\n",
       "    .dataframe thead th {\n",
       "        text-align: right;\n",
       "    }\n",
       "</style>\n",
       "<table border=\"1\" class=\"dataframe\">\n",
       "  <thead>\n",
       "    <tr style=\"text-align: right;\">\n",
       "      <th></th>\n",
       "      <th>x1</th>\n",
       "      <th>x2</th>\n",
       "      <th>y</th>\n",
       "    </tr>\n",
       "  </thead>\n",
       "  <tbody>\n",
       "    <tr>\n",
       "      <th>0</th>\n",
       "      <td>3</td>\n",
       "      <td>2</td>\n",
       "      <td>0</td>\n",
       "    </tr>\n",
       "    <tr>\n",
       "      <th>1</th>\n",
       "      <td>3</td>\n",
       "      <td>3</td>\n",
       "      <td>0</td>\n",
       "    </tr>\n",
       "    <tr>\n",
       "      <th>2</th>\n",
       "      <td>5</td>\n",
       "      <td>1</td>\n",
       "      <td>1</td>\n",
       "    </tr>\n",
       "    <tr>\n",
       "      <th>3</th>\n",
       "      <td>1</td>\n",
       "      <td>3</td>\n",
       "      <td>0</td>\n",
       "    </tr>\n",
       "    <tr>\n",
       "      <th>4</th>\n",
       "      <td>2</td>\n",
       "      <td>1</td>\n",
       "      <td>0</td>\n",
       "    </tr>\n",
       "  </tbody>\n",
       "</table>\n",
       "</div>"
      ],
      "text/plain": [
       "   x1  x2  y\n",
       "0   3   2  0\n",
       "1   3   3  0\n",
       "2   5   1  1\n",
       "3   1   3  0\n",
       "4   2   1  0"
      ]
     },
     "execution_count": 6,
     "metadata": {},
     "output_type": "execute_result"
    }
   ],
   "source": [
    "data= pd.read_csv('C:\\\\Users\\\\jaisankar\\\\Downloads\\\\logisticregression.csv')\n",
    "data.head()"
   ]
  },
  {
   "cell_type": "code",
   "execution_count": 7,
   "id": "8852d8a1",
   "metadata": {},
   "outputs": [
    {
     "data": {
      "text/html": [
       "<div>\n",
       "<style scoped>\n",
       "    .dataframe tbody tr th:only-of-type {\n",
       "        vertical-align: middle;\n",
       "    }\n",
       "\n",
       "    .dataframe tbody tr th {\n",
       "        vertical-align: top;\n",
       "    }\n",
       "\n",
       "    .dataframe thead th {\n",
       "        text-align: right;\n",
       "    }\n",
       "</style>\n",
       "<table border=\"1\" class=\"dataframe\">\n",
       "  <thead>\n",
       "    <tr style=\"text-align: right;\">\n",
       "      <th></th>\n",
       "      <th>x1</th>\n",
       "      <th>x2</th>\n",
       "    </tr>\n",
       "  </thead>\n",
       "  <tbody>\n",
       "    <tr>\n",
       "      <th>0</th>\n",
       "      <td>3</td>\n",
       "      <td>2</td>\n",
       "    </tr>\n",
       "    <tr>\n",
       "      <th>1</th>\n",
       "      <td>3</td>\n",
       "      <td>3</td>\n",
       "    </tr>\n",
       "    <tr>\n",
       "      <th>2</th>\n",
       "      <td>5</td>\n",
       "      <td>1</td>\n",
       "    </tr>\n",
       "    <tr>\n",
       "      <th>3</th>\n",
       "      <td>1</td>\n",
       "      <td>3</td>\n",
       "    </tr>\n",
       "    <tr>\n",
       "      <th>4</th>\n",
       "      <td>2</td>\n",
       "      <td>1</td>\n",
       "    </tr>\n",
       "  </tbody>\n",
       "</table>\n",
       "</div>"
      ],
      "text/plain": [
       "   x1  x2\n",
       "0   3   2\n",
       "1   3   3\n",
       "2   5   1\n",
       "3   1   3\n",
       "4   2   1"
      ]
     },
     "execution_count": 7,
     "metadata": {},
     "output_type": "execute_result"
    }
   ],
   "source": [
    "X= data.drop(['y'],axis=1)\n",
    "Y= data['y']\n",
    "X.head()"
   ]
  },
  {
   "cell_type": "code",
   "execution_count": 8,
   "id": "9758c6f1",
   "metadata": {},
   "outputs": [
    {
     "name": "stdout",
     "output_type": "stream",
     "text": [
      "initial cost= 0.039007677521182144\n"
     ]
    }
   ],
   "source": [
    "def sigmoid(z):\n",
    "    return 1 / (1 + np.exp(-z))\n",
    "\n",
    "def compute_cost(X,Y,theta):\n",
    "  n=len(X)\n",
    "  z=np.dot(X,theta)\n",
    "  y_pred= sigmoid(z)\n",
    "  cost = -1/n * np.sum(Y * np.log10(y_pred+1e-30) + (1-Y) * np.log10(1-y_pred+1e-30))\n",
    "\n",
    "  return cost\n",
    "#Initial cost \n",
    "cost_initial= compute_cost(X,Y,theta)\n",
    "print(\"initial cost=\",cost_initial)"
   ]
  },
  {
   "cell_type": "code",
   "execution_count": 9,
   "id": "764c084d",
   "metadata": {},
   "outputs": [],
   "source": [
    "def percentage_difference(value1, value2):\n",
    "    return ((value1 - value2)/((value1+value2)/2))*100"
   ]
  },
  {
   "cell_type": "code",
   "execution_count": 10,
   "id": "a0bd33dd",
   "metadata": {},
   "outputs": [
    {
     "name": "stdout",
     "output_type": "stream",
     "text": [
      "Epoch :  500  w1 =  2.1669384043104016  w2 =  -5.083225130032429  cost =  0.029931128370667692\n",
      "Epoch :  1000  w1 =  2.1423923658858066  w2 =  -5.171789853703257  cost =  0.029138381412151013\n",
      "Epoch :  1500  w1 =  2.159242236733026  w2 =  -5.241410642940528  cost =  0.028690530212702382\n",
      "Epoch :  2000  w1 =  2.1835532154127475  w2 =  -5.306336012365832  cost =  0.028272972173426003\n",
      "Epoch :  2500  w1 =  2.2088610362505485  w2 =  -5.369310357887275  cost =  0.027872869340956605\n",
      "Epoch :  3000  w1 =  2.233951176081456  w2 =  -5.430912797535707  cost =  0.027488567912933883\n",
      "Epoch :  3500  w1 =  2.2586075884408823  w2 =  -5.491306786002915  cost =  0.027118946726437776\n",
      "Epoch :  4000  w1 =  2.282806367937283  w2 =  -5.550571115292564  cost =  0.02676300910667327\n",
      "Epoch :  4500  w1 =  2.3065602514814043  w2 =  -5.6087641777654405  cost =  0.02641985434981822\n",
      "Epoch :  5000  w1 =  2.3298880885208844  w2 =  -5.665937013251059  cost =  0.026088665583730047\n",
      "Epoch :  5500  w1 =  2.352808816240372  w2 =  -5.722136263679553  cost =  0.025768699858563823\n",
      "Epoch :  6000  w1 =  2.3753403331174616  w2 =  -5.777405064190585  cost =  0.025459279653304235\n",
      "Epoch :  6500  w1 =  2.397499361950339  w2 =  -5.831783477542081  cost =  0.02515978555166904\n",
      "Epoch :  7000  w1 =  2.419301507984129  w2 =  -5.885308803909782  cost =  0.024869649901185772\n",
      "Epoch :  7500  w1 =  2.440761348635647  w2 =  -5.938015839144178  cost =  0.02458835130284883\n",
      "Epoch :  8000  w1 =  2.4618925215184517  w2 =  -5.98993710036243  cost =  0.02431540980542375\n",
      "Epoch :  8500  w1 =  2.4827078047094573  w2 =  -6.041103025803983  cost =  0.024050382700009462\n",
      "Epoch :  9000  w1 =  2.503219188876622  w2 =  -6.091542152879273  cost =  0.023792860827940354\n",
      "Epoch :  9500  w1 =  2.5234379419872837  w2 =  -6.14128127732703  cost =  0.02354246532933983\n",
      "Epoch :  10000  w1 =  2.5433746674446387  w2 =  -6.190345595873359  cost =  0.02329884477128103\n",
      "Epoch :  10500  w1 =  2.5630393564315685  w2 =  -6.238758834420617  cost =  0.023061672604083962\n",
      "Epoch :  11000  w1 =  2.582441435144546  w2 =  -6.286543363504482  cost =  0.022830644902180317\n",
      "Epoch :  11500  w1 =  2.6015898075096437  w2 =  -6.3337203025163715  cost =  0.022605478352534458\n",
      "Epoch :  12000  w1 =  2.62049289389414  w2 =  -6.380309613986383  cost =  0.022385908459064272\n",
      "Epoch :  12500  w1 =  2.6391586662598625  w2 =  -6.4263301890498115  cost =  0.02217168793607087\n",
      "Epoch :  13000  w1 =  2.657594680147148  w2 =  -6.471799925074924  cost =  0.021962585267509806\n",
      "Epoch :  13500  w1 =  2.6758081038291053  w2 =  -6.516735796304588  cost =  0.021758383412162997\n",
      "Epoch :  14000  w1 =  2.6938057449338877  w2 =  -6.561153918257745  cost =  0.021558878637492132\n",
      "Epoch :  14500  w1 =  2.711594074796432  w2 =  -6.605069606545056  cost =  0.02136387946726375\n",
      "Epoch :  15000  w1 =  2.7291792507699317  w2 =  -6.648497430674024  cost =  0.02117320572999965\n",
      "Epoch :  15500  w1 =  2.7465671367003974  w2 =  -6.691451263350616  cost =  0.020986687696980904\n",
      "Epoch :  16000  w1 =  2.763763321744043  w2 =  -6.7339443257252745  cost =  0.02080416529996791\n",
      "Epoch :  16500  w1 =  2.780773137687127  w2 =  -6.775989228979875  cost =  0.02062548742002782\n",
      "Epoch :  17000  w1 =  2.797601674909957  w2 =  -6.8175980126075  cost =  0.020450511239918794\n",
      "Epoch :  17500  w1 =  2.8142537971212653  w2 =  -6.858782179697742  cost =  0.0202791016533943\n",
      "Epoch :  18000  w1 =  2.830734154975658  w2 =  -6.89955272950633  cost =  0.02011113072557859\n",
      "Epoch :  18500  w1 =  2.84704719867485  w2 =  -6.939920187557653  cost =  0.019946477199250693\n",
      "Epoch :  19000  w1 =  2.863197189642799  w2 =  -6.979894633502832  cost =  0.01978502604246762\n",
      "Epoch :  19500  w1 =  2.879188211355873  w2 =  -7.0194857269323485  cost =  0.01962666803347721\n",
      "Epoch :  20000  w1 =  2.8950241794006213  w2 =  -7.058702731322288  cost =  0.019471299379322175\n",
      "Epoch :  20500  w1 =  2.9107088508247827  w2 =  -7.097554536274822  cost =  0.019318821364934\n",
      "Epoch :  21000  w1 =  2.92624583284061  w2 =  -7.136049678197775  cost =  0.0191691400298617\n",
      "Epoch :  21500  w1 =  2.941638590933845  w2 =  -7.1741963595537666  cost =  0.019022165870085646\n",
      "Epoch :  22000  w1 =  2.956890456426659  w2 =  -7.21200246679693  cost =  0.018877813562635796\n",
      "Epoch :  22500  w1 =  2.9720046335382895  w2 =  -7.249475587103862  cost =  0.018736001710969202\n",
      "Epoch :  23000  w1 =  2.9869842059831133  w2 =  -7.286623023995439  cost =  0.018596652609272537\n",
      "Epoch :  23500  w1 =  3.001832143142139  w2 =  -7.323451811937275  cost =  0.018459692024039194\n",
      "Epoch :  24000  w1 =  3.0165513058408373  w2 =  -7.359968729998406  cost =  0.018325048991436013\n",
      "Epoch :  24500  w1 =  3.0311444517630686  w2 =  -7.396180314640687  cost =  0.018192655629120088\n",
      "Epoch :  25000  w1 =  3.0456142405285327  w2 =  -7.432092871705028  cost =  0.018062446961295532\n",
      "Epoch :  25500  w1 =  3.0599632384584954  w2 =  -7.467712487654538  cost =  0.017934360755917145\n",
      "Epoch :  26000  w1 =  3.0741939230526487  w2 =  -7.503045040129669  cost =  0.01780833737304986\n",
      "Epoch :  26500  w1 =  3.088308687197937  w2 =  -7.538096207865613  cost =  0.017684319623486253\n",
      "Epoch :  27000  w1 =  3.102309843128441  w2 =  -7.572871480017933  cost =  0.017562252636806285\n",
      "Epoch :  27500  w1 =  3.116199626153845  w2 =  -7.607376164938732  cost =  0.017442083738138298\n",
      "Epoch :  28000  w1 =  3.129980198172631  w2 =  -7.641615398441838  cost =  0.017323762332946725\n",
      "Epoch :  28500  w1 =  3.1436536509847217  w2 =  -7.675594151592768  cost =  0.017207239799231267\n",
      "Epoch :  29000  w1 =  3.1572220094173105  w2 =  -7.709317238056  cost =  0.0170924693865772\n",
      "Epoch :  29500  w1 =  3.1706872342763344  w2 =  -7.742789321029655  cost =  0.01697940612154398\n",
      "Epoch :  30000  w1 =  3.1840512251352218  w2 =  -7.776014919795346  cost =  0.01686800671892424\n",
      "Epoch :  30500  w1 =  3.197315822971612  w2 =  -7.808998415908616  cost =  0.016758229498444157\n",
      "Epoch :  31000  w1 =  3.210482812661885  w2 =  -7.841744059053752  cost =  0.01665003430651197\n",
      "Epoch :  31500  w1 =  3.2235539253426597  w2 =  -7.874255972584483  cost =  0.016543382442655342\n",
      "Epoch :  32000  w1 =  3.2365308406477187  w2 =  -7.906538158770975  cost =  0.01643823659031523\n",
      "Epoch :  32500  w1 =  3.2494151888281926  w2 =  -7.938594503771623  cost =  0.016334560751693226\n",
      "Epoch :  33000  w1 =  3.262208552763258  w2 =  -7.97042878234691  cost =  0.016232320186372103\n",
      "Epoch :  33500  w1 =  3.274912469868076  w2 =  -8.002044662331503  cost =  0.01613148135345201\n",
      "Epoch :  34000  w1 =  3.2875284339052993  w2 =  -8.033445708879167  cost =  0.016032011856964883\n",
      "Epoch :  34500  w1 =  3.30005789670586  w2 =  -8.064635388494612  cost =  0.015933880394347937\n",
      "Epoch :  35000  w1 =  3.312502269804526  w2 =  -8.095617072864925  cost =  0.015837056707773876\n",
      "Epoch :  35500  w1 =  3.324862925995305  w2 =  -8.126394042502566  cost =  0.01574151153815109\n",
      "Epoch :  36000  w1 =  3.3371412008112387  w2 =  -8.156969490210908  cost =  0.015647216581621003\n",
      "Epoch :  36500  w1 =  3.349338393933102  w2 =  -8.187346524382997  cost =  0.0155541444483921\n",
      "Epoch :  37000  w1 =  3.3614557705310752  w2 =  -8.21752817214288  cost =  0.015462268623762482\n",
      "Epoch :  37500  w1 =  3.3734945625430965  w2 =  -8.247517382338454  cost =  0.015371563431194455\n",
      "Epoch :  38000  w1 =  3.3854559698936066  w2 =  -8.277317028394716  cost =  0.015282003997311439\n",
      "Epoch :  38500  w1 =  3.3973411616558686  w2 =  -8.306929911034532  cost =  0.015193566218701528\n",
      "Epoch :  39000  w1 =  3.4091512771611026  w2 =  -8.336358760875068  cost =  0.015106226730414838\n",
      "Epoch :  39500  w1 =  3.4208874270572376  w2 =  -8.365606240905976  cost =  0.01501996287605473\n",
      "Epoch :  40000  w1 =  3.4325506943200845  w2 =  -8.394674948856382  cost =  0.01493475267936592\n",
      "Epoch :  40500  w1 =  3.444142135219505  w2 =  -8.423567419456312  cost =  0.014850574817231591\n",
      "Epoch :  41000  w1 =  3.4556627802428515  w2 =  -8.45228612659839  cost =  0.01476740859399668\n",
      "Epoch :  41500  w1 =  3.467113634978101  w2 =  -8.480833485405093  cost =  0.01468523391703994\n",
      "Epoch :  42000  w1 =  3.478495680958677  w2 =  -8.509211854206322  cost =  0.014604031273523563\n",
      "Epoch :  42500  w1 =  3.4898098764719574  w2 =  -8.537423536432174  cost =  0.014523781708252557\n",
      "Epoch :  43000  w1 =  3.5010571573333724  w2 =  -8.565470782425347  cost =  0.014444466802581012\n",
      "Epoch :  43500  w1 =  3.512238437627853  w2 =  -8.59335579117702  cost =  0.014366068654307116\n",
      "Epoch :  44000  w1 =  3.523354610420224  w2 =  -8.62108071199021  cost =  0.014288569858501958\n",
      "Epoch :  44500  w1 =  3.5344065484361464  w2 =  -8.648647646074481  cost =  0.014211953489219992\n",
      "Epoch :  45000  w1 =  3.5453951047150483  w2 =  -8.676058648074976  cost =  0.014136203082044142\n",
      "Epoch :  45500  w1 =  3.556321113236438  w2 =  -8.70331572753944  cost =  0.014061302617419384\n",
      "Epoch :  46000  w1 =  3.567185389520919  w2 =  -8.730420850326102  cost =  0.013987236504733096\n",
      "Epoch :  46500  w1 =  3.5779887312070646  w2 =  -8.757375939955065  cost =  0.013913989567102717\n",
      "Epoch :  47000  w1 =  3.588731918605392  w2 =  -8.78418287890647  cost =  0.013841547026832544\n",
      "Epoch :  47500  w1 =  3.5994157152305037  w2 =  -8.810843509867402  cost =  0.013769894491505542\n",
      "Epoch :  48000  w1 =  3.6100408683123524  w2 =  -8.837359636930191  cost =  0.013699017940677289\n",
      "Epoch :  48500  w1 =  3.6206081092877693  w2 =  -8.863733026744757  cost =  0.013628903713139757\n",
      "Epoch :  49000  w1 =  3.6311181542730235  w2 =  -8.889965409626365  cost =  0.01355953849472815\n",
      "Epoch :  49500  w1 =  3.6415717045183578  w2 =  -8.916058480621613  cost =  0.01349090930664111\n",
      "Epoch :  50000  w1 =  3.6519694468453268  w2 =  -8.942013900534008  cost =  0.013423003494250255\n",
      "Epoch :  50500  w1 =  3.6623120540676926  w2 =  -8.967833296911463  cost =  0.013355808716373447\n",
      "updated weights= [ 3.6643328  -8.97287809]\n",
      "final cost 0.013342720840907877\n"
     ]
    }
   ],
   "source": [
    "def gradient_descent(X, Y, theta, learning_rate, iterations, batch_size):\n",
    "    m = len(Y)\n",
    "    costs = []\n",
    "    cost_initial= compute_cost(X,Y,theta)\n",
    "    j=1\n",
    "    while True:\n",
    "        if batch_size == m:  \n",
    "            X_batch, y_batch = X, Y\n",
    "        \n",
    "        z=np.dot(X,theta)\n",
    "        #calculating y_predicted\n",
    "        h = sigmoid(z)\n",
    "        gradient = np.dot(X_batch.T, (h - y_batch)) / batch_size\n",
    "        theta =theta- learning_rate * gradient.flatten()\n",
    "\n",
    "        cost = compute_cost(X_batch, y_batch, theta)\n",
    "        #calculating the percentage difference between the costs\n",
    "        #stopping the algorithm if the difference between the costs for 10 consecutive epochs are less\n",
    "        if(percentage_difference(cost_initial,cost)<0.001):\n",
    "            count+=1\n",
    "        else:\n",
    "            count=0\n",
    "        if(count==10):\n",
    "            break\n",
    "        cost_initial=cost\n",
    "        costs.append(cost)\n",
    "        \n",
    "        if(j%500==0):\n",
    "            print(\"Epoch : \",j,\" w1 = \",theta[0],\" w2 = \",theta[1],\" cost = \",cost)\n",
    "        j+=1\n",
    "        \n",
    "    return theta, costs\n",
    "\n",
    "Weights, costs= gradient_descent(X,Y,theta,learning_rate,iterations,batch_size=len(Y))\n",
    "print(\"updated weights=\",Weights)\n",
    "print(\"final cost\",compute_cost(X,Y,Weights))"
   ]
  },
  {
   "cell_type": "code",
   "execution_count": 11,
   "id": "577ee448",
   "metadata": {},
   "outputs": [
    {
     "data": {
      "image/png": "[encoded data removed]",
      "text/plain": [
       "<Figure size 432x288 with 1 Axes>"
      ]
     },
     "metadata": {
      "needs_background": "light"
     },
     "output_type": "display_data"
    }
   ],
   "source": [
    "#plot the 3D surface\n",
    "w1_vals = np.linspace(-5, 5, 100)\n",
    "w2_vals = np.linspace(-10, 10, 100)\n",
    "w1_mesh, w2_mesh = np.meshgrid(w1_vals, w2_vals)\n",
    "cost_vals = np.array([compute_cost(X, Y, np.array([w1, w2])) for w1, w2 in zip(w1_mesh.flatten(), w2_mesh.flatten())])\n",
    "cost_mesh = cost_vals.reshape(w1_mesh.shape)\n",
    "\n",
    "fig = plt.figure()\n",
    "ax = fig.add_subplot(111, projection='3d')\n",
    "ax.plot_surface(w1_mesh, w2_mesh, cost_mesh, cmap='viridis', alpha=0.8)\n",
    "ax.set_xlabel('w1')\n",
    "ax.set_ylabel('w2')\n",
    "ax.set_zlabel('Cost')\n",
    "ax.set_title('Cost Function VS weights')\n",
    "ax.plot(Weights[0], Weights[1], compute_cost(X, Y, Weights), marker='o', color='r', markersize=10, label='Optimization Path')\n",
    "\n",
    "\n",
    "plt.show()"
   ]
  },
  {
   "cell_type": "code",
   "execution_count": 12,
   "id": "5bd07b5e",
   "metadata": {},
   "outputs": [
    {
     "name": "stdout",
     "output_type": "stream",
     "text": [
      "Average cost for gradient descent 0.013342720840907877\n"
     ]
    }
   ],
   "source": [
    "print(\"Average cost for gradient descent\",compute_cost(X,Y,Weights))"
   ]
  },
  {
   "cell_type": "code",
   "execution_count": 13,
   "id": "bb018911",
   "metadata": {
    "scrolled": false
   },
   "outputs": [],
   "source": [
    "#Making predictions\n",
    "def predict(X,theta):\n",
    "    prob = sigmoid(np.dot(X,theta))\n",
    "    \n",
    "    prediction = 1 if prob >= 0.5 else 0\n",
    "    \n",
    "    return prediction"
   ]
  },
  {
   "cell_type": "code",
   "execution_count": 22,
   "id": "815c4354",
   "metadata": {},
   "outputs": [
    {
     "name": "stdout",
     "output_type": "stream",
     "text": [
      "x1=7,x2=7, y=0\n"
     ]
    }
   ],
   "source": [
    "x1=7\n",
    "x2=7\n",
    "x=np.array([x1,x2])\n",
    "_y = predict(x,Weights)\n",
    "print(f\"x1={x1},x2={x2}, y={_y}\")"
   ]
  },
  {
   "cell_type": "code",
   "execution_count": 15,
   "id": "2f316b99",
   "metadata": {},
   "outputs": [
    {
     "data": {
      "text/html": [
       "<div>\n",
       "<style scoped>\n",
       "    .dataframe tbody tr th:only-of-type {\n",
       "        vertical-align: middle;\n",
       "    }\n",
       "\n",
       "    .dataframe tbody tr th {\n",
       "        vertical-align: top;\n",
       "    }\n",
       "\n",
       "    .dataframe thead th {\n",
       "        text-align: right;\n",
       "    }\n",
       "</style>\n",
       "<table border=\"1\" class=\"dataframe\">\n",
       "  <thead>\n",
       "    <tr style=\"text-align: right;\">\n",
       "      <th></th>\n",
       "      <th>x1</th>\n",
       "      <th>x2</th>\n",
       "      <th>y</th>\n",
       "    </tr>\n",
       "  </thead>\n",
       "  <tbody>\n",
       "    <tr>\n",
       "      <th>0</th>\n",
       "      <td>3</td>\n",
       "      <td>2</td>\n",
       "      <td>0</td>\n",
       "    </tr>\n",
       "    <tr>\n",
       "      <th>1</th>\n",
       "      <td>3</td>\n",
       "      <td>3</td>\n",
       "      <td>0</td>\n",
       "    </tr>\n",
       "    <tr>\n",
       "      <th>2</th>\n",
       "      <td>5</td>\n",
       "      <td>1</td>\n",
       "      <td>1</td>\n",
       "    </tr>\n",
       "    <tr>\n",
       "      <th>3</th>\n",
       "      <td>1</td>\n",
       "      <td>3</td>\n",
       "      <td>0</td>\n",
       "    </tr>\n",
       "    <tr>\n",
       "      <th>4</th>\n",
       "      <td>2</td>\n",
       "      <td>1</td>\n",
       "      <td>0</td>\n",
       "    </tr>\n",
       "    <tr>\n",
       "      <th>5</th>\n",
       "      <td>6</td>\n",
       "      <td>4</td>\n",
       "      <td>0</td>\n",
       "    </tr>\n",
       "    <tr>\n",
       "      <th>6</th>\n",
       "      <td>3</td>\n",
       "      <td>1</td>\n",
       "      <td>1</td>\n",
       "    </tr>\n",
       "    <tr>\n",
       "      <th>7</th>\n",
       "      <td>1</td>\n",
       "      <td>5</td>\n",
       "      <td>0</td>\n",
       "    </tr>\n",
       "    <tr>\n",
       "      <th>8</th>\n",
       "      <td>5</td>\n",
       "      <td>1</td>\n",
       "      <td>1</td>\n",
       "    </tr>\n",
       "    <tr>\n",
       "      <th>9</th>\n",
       "      <td>1</td>\n",
       "      <td>1</td>\n",
       "      <td>0</td>\n",
       "    </tr>\n",
       "  </tbody>\n",
       "</table>\n",
       "</div>"
      ],
      "text/plain": [
       "   x1  x2  y\n",
       "0   3   2  0\n",
       "1   3   3  0\n",
       "2   5   1  1\n",
       "3   1   3  0\n",
       "4   2   1  0\n",
       "5   6   4  0\n",
       "6   3   1  1\n",
       "7   1   5  0\n",
       "8   5   1  1\n",
       "9   1   1  0"
      ]
     },
     "execution_count": 15,
     "metadata": {},
     "output_type": "execute_result"
    }
   ],
   "source": [
    "data.head(10)"
   ]
  },
  {
   "cell_type": "code",
   "execution_count": 376,
   "id": "eba7a9b0",
   "metadata": {},
   "outputs": [
    {
     "name": "stdout",
     "output_type": "stream",
     "text": [
      "epoch= 3\n",
      "updated weights= [ 2.5 -4.9]\n"
     ]
    }
   ],
   "source": []
  },
  {
   "cell_type": "code",
   "execution_count": 222,
   "id": "f88c1d0f",
   "metadata": {},
   "outputs": [
    {
     "name": "stdout",
     "output_type": "stream",
     "text": [
      "Average cost for mini-batch gradient descent 0.041094179571339685\n"
     ]
    }
   ],
   "source": []
  }
 ],
 "metadata": {
  "kernelspec": {
   "display_name": "Python 3",
   "language": "python",
   "name": "python3"
  },
  "language_info": {
   "codemirror_mode": {
    "name": "ipython",
    "version": 3
   },
   "file_extension": ".py",
   "mimetype": "text/x-python",
   "name": "python",
   "nbconvert_exporter": "python",
   "pygments_lexer": "ipython3",
   "version": "3.8.8"
  }
 },
 "nbformat": 4,
 "nbformat_minor": 5
}
